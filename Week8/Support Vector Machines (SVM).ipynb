{
  "nbformat": 4,
  "nbformat_minor": 0,
  "metadata": {
    "colab": {
      "name": "Week8.ipynb",
      "provenance": [],
      "include_colab_link": true
    },
    "kernelspec": {
      "name": "python3",
      "display_name": "Python 3"
    },
    "language_info": {
      "name": "python"
    }
  },
  "cells": [
    {
      "cell_type": "markdown",
      "metadata": {
        "id": "view-in-github",
        "colab_type": "text"
      },
      "source": [
        "<a href=\"https://colab.research.google.com/github/TaqiyDM/MachineLearningLesson/blob/main/Week8/Support%20Vector%20Machines%20(SVM).ipynb\" target=\"_parent\"><img src=\"https://colab.research.google.com/assets/colab-badge.svg\" alt=\"Open In Colab\"/></a>"
      ]
    },
    {
      "cell_type": "markdown",
      "source": [
        "Support Vector Machines (SVM)**teks tebal**"
      ],
      "metadata": {
        "id": "NfddnAHuK5iO"
      }
    },
    {
      "cell_type": "markdown",
      "source": [
        "Support vector machines (SVMs) are a set of supervised learning methods used for classification, regression and outliers detection.\n",
        "\n",
        "Example of SVM Classification: **Maximum Margin Separating Hyperplane Programs**"
      ],
      "metadata": {
        "id": "QeAgKOZbLATl"
      }
    },
    {
      "cell_type": "code",
      "source": [
        "# libraries\n",
        "import numpy as np\n",
        "import matplotlib.pyplot as plt\n",
        "from sklearn import svm\n",
        "from sklearn.datasets import make_blobs\n",
        "\n",
        "\n",
        "# create 40 separable points\n",
        "X, y = make_blobs(n_samples=40, centers=2, random_state=6)\n",
        "\n",
        "# fit the model\n",
        "clf = svm.SVC(kernel=\"linear\", C=1000)\n",
        "clf.fit(X, y)\n",
        "\n",
        "plt.scatter(X[:, 0], X[:, 1], c=y, s=30, cmap=plt.cm.Paired)\n",
        "\n",
        "# plot the decision function\n",
        "ax = plt.gca()\n",
        "xlim = ax.get_xlim()\n",
        "ylim = ax.get_ylim()\n",
        "\n",
        "# create grid to evaluate model\n",
        "xx = np.linspace(xlim[0], xlim[1], 30)\n",
        "yy = np.linspace(ylim[0], ylim[1], 30)\n",
        "YY, XX = np.meshgrid(yy, xx)\n",
        "xy = np.vstack([XX.ravel(), YY.ravel()]).T\n",
        "Z = clf.decision_function(xy).reshape(XX.shape)\n",
        "\n",
        "# plot decision boundary and margins\n",
        "ax.contour(\n",
        "    XX, YY, Z, colors=\"k\", levels=[-1, 0, 1], alpha=0.5, linestyles=[\"--\", \"-\", \"--\"]\n",
        ")\n",
        "# plot support vectors\n",
        "ax.scatter(\n",
        "    clf.support_vectors_[:, 0],\n",
        "    clf.support_vectors_[:, 1],\n",
        "    s=100,\n",
        "    linewidth=1,\n",
        "    facecolors=\"none\",\n",
        "    edgecolors=\"k\",\n",
        ")\n",
        "plt.show()"
      ],
      "metadata": {
        "colab": {
          "base_uri": "https://localhost:8080/",
          "height": 265
        },
        "id": "GhjLz2JW9b3M",
        "outputId": "67ceaca6-0f20-4bfb-9102-cbf6a3057b20"
      },
      "execution_count": null,
      "outputs": [
        {
          "output_type": "display_data",
          "data": {
            "text/plain": [
              "<Figure size 432x288 with 1 Axes>"
            ],
            "image/png": "[encoded data removed]"
          },
          "metadata": {
            "needs_background": "light"
          }
        }
      ]
    },
    {
      "cell_type": "markdown",
      "source": [
        "**Credit card dataset: SVM Classification**"
      ],
      "metadata": {
        "id": "HdQB8ATO9kCi"
      }
    },
    {
      "cell_type": "code",
      "source": [
        "# Importing librairies\n",
        "\n",
        "import pandas as pd \n",
        "import numpy as np\n",
        "\n",
        "# Scikit-learn library: For SVM\n",
        "from sklearn import preprocessing\n",
        "from sklearn.metrics import confusion_matrix\n",
        "from sklearn import svm\n",
        "\n",
        "import itertools\n",
        "\n",
        "# Matplotlib library to plot the charts\n",
        "import matplotlib.pyplot as plt\n",
        "import matplotlib.mlab as mlab\n",
        "\n",
        "# Library for the statistic data vizualisation\n",
        "import seaborn\n",
        "\n",
        "%matplotlib inline"
      ],
      "metadata": {
        "id": "lp8J9Tde9nWf"
      },
      "execution_count": null,
      "outputs": []
    },
    {
      "cell_type": "code",
      "source": [
        "# Reading the file .csv\n",
        "data = pd.read_csv('creditcard.csv') \n",
        "# Converting data to Panda DataFrame\n",
        "df = pd.DataFrame(data) \n",
        "# Description of statistic features (Sum, Average, Variance, minimum, 1st quartile, 2nd quartile, 3rd Quartile and Maximum)\n",
        "df.describe()"
      ],
      "metadata": {
        "colab": {
          "base_uri": "https://localhost:8080/",
          "height": 394
        },
        "id": "m4VweJxYDLvE",
        "outputId": "cad3929d-3e20-4ee6-a7d6-598f6bfb48c6"
      },
      "execution_count": null,
      "outputs": [
        {
          "output_type": "execute_result",
          "data": {
            "text/plain": [
              "               Time            V1            V2            V3            V4  \\\n",
              "count  21878.000000  21878.000000  21878.000000  21878.000000  21878.000000   \n",
              "mean   16924.271551     -0.241060      0.222124      0.737915      0.262153   \n",
              "std    11005.409549      1.880901      1.518111      1.740947      1.451072   \n",
              "min        0.000000    -30.552380    -40.978852    -31.103685     -5.172595   \n",
              "25%     5496.250000     -0.960913     -0.350012      0.298029     -0.649075   \n",
              "50%    18770.500000     -0.299205      0.206484      0.888730      0.222271   \n",
              "75%    27778.750000      1.164867      0.858497      1.520365      1.132694   \n",
              "max    31907.000000      1.960497     16.713389      4.101716     11.927512   \n",
              "\n",
              "                 V5            V6            V7            V8            V9  \\\n",
              "count  21878.000000  21878.000000  21878.000000  21878.000000  21878.000000   \n",
              "mean      -0.175227      0.087496     -0.141011      0.019339      0.562079   \n",
              "std        1.414872      1.322606      1.323924      1.383927      1.277273   \n",
              "min      -32.092129    -23.496714    -26.548144    -41.484823     -7.175097   \n",
              "25%       -0.756733     -0.660688     -0.597972     -0.169171     -0.273362   \n",
              "50%       -0.210143     -0.176618     -0.069763      0.026032      0.515162   \n",
              "75%        0.332839      0.481047      0.447633      0.281472      1.330385   \n",
              "max       34.099309     21.393069     34.303177     20.007208     10.392889   \n",
              "\n",
              "       ...           V21           V22           V23           V24  \\\n",
              "count  ...  21878.000000  21878.000000  21878.000000  21878.000000   \n",
              "mean   ...     -0.043038     -0.140156     -0.037826      0.010707   \n",
              "std    ...      0.849611      0.644914      0.512947      0.590807   \n",
              "min    ...    -20.262054     -8.593642    -26.751119     -2.836627   \n",
              "25%    ...     -0.257010     -0.564567     -0.175530     -0.331558   \n",
              "50%    ...     -0.109913     -0.111903     -0.048576      0.062115   \n",
              "75%    ...      0.059938      0.267688      0.074156      0.399318   \n",
              "max    ...     22.614889      5.805795     13.876221      3.695503   \n",
              "\n",
              "                V25           V26           V27           V28        Amount  \\\n",
              "count  21878.000000  21878.000000  21878.000000  21878.000000  21877.000000   \n",
              "mean       0.125683      0.029305      0.011978      0.006293     71.725300   \n",
              "std        0.436855      0.524399      0.395178      0.247253    205.034501   \n",
              "min       -7.495741     -1.338556     -8.567638     -3.612114      0.000000   \n",
              "25%       -0.136296     -0.339574     -0.067305     -0.010143      5.990000   \n",
              "50%        0.163900     -0.042054      0.005402      0.019665     17.430000   \n",
              "75%        0.404503      0.320185      0.095819      0.077587     62.390000   \n",
              "max        5.525093      3.517346      8.254376      4.860769   7879.420000   \n",
              "\n",
              "              Class  \n",
              "count  21877.000000  \n",
              "mean       0.003931  \n",
              "std        0.062576  \n",
              "min        0.000000  \n",
              "25%        0.000000  \n",
              "50%        0.000000  \n",
              "75%        0.000000  \n",
              "max        1.000000  \n",
              "\n",
              "[8 rows x 31 columns]"
            ],
            "text/html": [
              "\n",
              "  <div id=\"df-d32105e1-db0b-436a-8919-c8a95f3f9647\">\n",
              "    <div class=\"colab-df-container\">\n",
              "      <div>\n",
              "<style scoped>\n",
              "    .dataframe tbody tr th:only-of-type {\n",
              "        vertical-align: middle;\n",
              "    }\n",
              "\n",
              "    .dataframe tbody tr th {\n",
              "        vertical-align: top;\n",
              "    }\n",
              "\n",
              "    .dataframe thead th {\n",
              "        text-align: right;\n",
              "    }\n",
              "</style>\n",
              "<table border=\"1\" class=\"dataframe\">\n",
              "  <thead>\n",
              "    <tr style=\"text-align: right;\">\n",
              "      <th></th>\n",
              "      <th>Time</th>\n",
              "      <th>V1</th>\n",
              "      <th>V2</th>\n",
              "      <th>V3</th>\n",
              "      <th>V4</th>\n",
              "      <th>V5</th>\n",
              "      <th>V6</th>\n",
              "      <th>V7</th>\n",
              "      <th>V8</th>\n",
              "      <th>V9</th>\n",
              "      <th>...</th>\n",
              "      <th>V21</th>\n",
              "      <th>V22</th>\n",
              "      <th>V23</th>\n",
              "      <th>V24</th>\n",
              "      <th>V25</th>\n",
              "      <th>V26</th>\n",
              "      <th>V27</th>\n",
              "      <th>V28</th>\n",
              "      <th>Amount</th>\n",
              "      <th>Class</th>\n",
              "    </tr>\n",
              "  </thead>\n",
              "  <tbody>\n",
              "    <tr>\n",
              "      <th>count</th>\n",
              "      <td>21878.000000</td>\n",
              "      <td>21878.000000</td>\n",
              "      <td>21878.000000</td>\n",
              "      <td>21878.000000</td>\n",
              "      <td>21878.000000</td>\n",
              "      <td>21878.000000</td>\n",
              "      <td>21878.000000</td>\n",
              "      <td>21878.000000</td>\n",
              "      <td>21878.000000</td>\n",
              "      <td>21878.000000</td>\n",
              "      <td>...</td>\n",
              "      <td>21878.000000</td>\n",
              "      <td>21878.000000</td>\n",
              "      <td>21878.000000</td>\n",
              "      <td>21878.000000</td>\n",
              "      <td>21878.000000</td>\n",
              "      <td>21878.000000</td>\n",
              "      <td>21878.000000</td>\n",
              "      <td>21878.000000</td>\n",
              "      <td>21877.000000</td>\n",
              "      <td>21877.000000</td>\n",
              "    </tr>\n",
              "    <tr>\n",
              "      <th>mean</th>\n",
              "      <td>16924.271551</td>\n",
              "      <td>-0.241060</td>\n",
              "      <td>0.222124</td>\n",
              "      <td>0.737915</td>\n",
              "      <td>0.262153</td>\n",
              "      <td>-0.175227</td>\n",
              "      <td>0.087496</td>\n",
              "      <td>-0.141011</td>\n",
              "      <td>0.019339</td>\n",
              "      <td>0.562079</td>\n",
              "      <td>...</td>\n",
              "      <td>-0.043038</td>\n",
              "      <td>-0.140156</td>\n",
              "      <td>-0.037826</td>\n",
              "      <td>0.010707</td>\n",
              "      <td>0.125683</td>\n",
              "      <td>0.029305</td>\n",
              "      <td>0.011978</td>\n",
              "      <td>0.006293</td>\n",
              "      <td>71.725300</td>\n",
              "      <td>0.003931</td>\n",
              "    </tr>\n",
              "    <tr>\n",
              "      <th>std</th>\n",
              "      <td>11005.409549</td>\n",
              "      <td>1.880901</td>\n",
              "      <td>1.518111</td>\n",
              "      <td>1.740947</td>\n",
              "      <td>1.451072</td>\n",
              "      <td>1.414872</td>\n",
              "      <td>1.322606</td>\n",
              "      <td>1.323924</td>\n",
              "      <td>1.383927</td>\n",
              "      <td>1.277273</td>\n",
              "      <td>...</td>\n",
              "      <td>0.849611</td>\n",
              "      <td>0.644914</td>\n",
              "      <td>0.512947</td>\n",
              "      <td>0.590807</td>\n",
              "      <td>0.436855</td>\n",
              "      <td>0.524399</td>\n",
              "      <td>0.395178</td>\n",
              "      <td>0.247253</td>\n",
              "      <td>205.034501</td>\n",
              "      <td>0.062576</td>\n",
              "    </tr>\n",
              "    <tr>\n",
              "      <th>min</th>\n",
              "      <td>0.000000</td>\n",
              "      <td>-30.552380</td>\n",
              "      <td>-40.978852</td>\n",
              "      <td>-31.103685</td>\n",
              "      <td>-5.172595</td>\n",
              "      <td>-32.092129</td>\n",
              "      <td>-23.496714</td>\n",
              "      <td>-26.548144</td>\n",
              "      <td>-41.484823</td>\n",
              "      <td>-7.175097</td>\n",
              "      <td>...</td>\n",
              "      <td>-20.262054</td>\n",
              "      <td>-8.593642</td>\n",
              "      <td>-26.751119</td>\n",
              "      <td>-2.836627</td>\n",
              "      <td>-7.495741</td>\n",
              "      <td>-1.338556</td>\n",
              "      <td>-8.567638</td>\n",
              "      <td>-3.612114</td>\n",
              "      <td>0.000000</td>\n",
              "      <td>0.000000</td>\n",
              "    </tr>\n",
              "    <tr>\n",
              "      <th>25%</th>\n",
              "      <td>5496.250000</td>\n",
              "      <td>-0.960913</td>\n",
              "      <td>-0.350012</td>\n",
              "      <td>0.298029</td>\n",
              "      <td>-0.649075</td>\n",
              "      <td>-0.756733</td>\n",
              "      <td>-0.660688</td>\n",
              "      <td>-0.597972</td>\n",
              "      <td>-0.169171</td>\n",
              "      <td>-0.273362</td>\n",
              "      <td>...</td>\n",
              "      <td>-0.257010</td>\n",
              "      <td>-0.564567</td>\n",
              "      <td>-0.175530</td>\n",
              "      <td>-0.331558</td>\n",
              "      <td>-0.136296</td>\n",
              "      <td>-0.339574</td>\n",
              "      <td>-0.067305</td>\n",
              "      <td>-0.010143</td>\n",
              "      <td>5.990000</td>\n",
              "      <td>0.000000</td>\n",
              "    </tr>\n",
              "    <tr>\n",
              "      <th>50%</th>\n",
              "      <td>18770.500000</td>\n",
              "      <td>-0.299205</td>\n",
              "      <td>0.206484</td>\n",
              "      <td>0.888730</td>\n",
              "      <td>0.222271</td>\n",
              "      <td>-0.210143</td>\n",
              "      <td>-0.176618</td>\n",
              "      <td>-0.069763</td>\n",
              "      <td>0.026032</td>\n",
              "      <td>0.515162</td>\n",
              "      <td>...</td>\n",
              "      <td>-0.109913</td>\n",
              "      <td>-0.111903</td>\n",
              "      <td>-0.048576</td>\n",
              "      <td>0.062115</td>\n",
              "      <td>0.163900</td>\n",
              "      <td>-0.042054</td>\n",
              "      <td>0.005402</td>\n",
              "      <td>0.019665</td>\n",
              "      <td>17.430000</td>\n",
              "      <td>0.000000</td>\n",
              "    </tr>\n",
              "    <tr>\n",
              "      <th>75%</th>\n",
              "      <td>27778.750000</td>\n",
              "      <td>1.164867</td>\n",
              "      <td>0.858497</td>\n",
              "      <td>1.520365</td>\n",
              "      <td>1.132694</td>\n",
              "      <td>0.332839</td>\n",
              "      <td>0.481047</td>\n",
              "      <td>0.447633</td>\n",
              "      <td>0.281472</td>\n",
              "      <td>1.330385</td>\n",
              "      <td>...</td>\n",
              "      <td>0.059938</td>\n",
              "      <td>0.267688</td>\n",
              "      <td>0.074156</td>\n",
              "      <td>0.399318</td>\n",
              "      <td>0.404503</td>\n",
              "      <td>0.320185</td>\n",
              "      <td>0.095819</td>\n",
              "      <td>0.077587</td>\n",
              "      <td>62.390000</td>\n",
              "      <td>0.000000</td>\n",
              "    </tr>\n",
              "    <tr>\n",
              "      <th>max</th>\n",
              "      <td>31907.000000</td>\n",
              "      <td>1.960497</td>\n",
              "      <td>16.713389</td>\n",
              "      <td>4.101716</td>\n",
              "      <td>11.927512</td>\n",
              "      <td>34.099309</td>\n",
              "      <td>21.393069</td>\n",
              "      <td>34.303177</td>\n",
              "      <td>20.007208</td>\n",
              "      <td>10.392889</td>\n",
              "      <td>...</td>\n",
              "      <td>22.614889</td>\n",
              "      <td>5.805795</td>\n",
              "      <td>13.876221</td>\n",
              "      <td>3.695503</td>\n",
              "      <td>5.525093</td>\n",
              "      <td>3.517346</td>\n",
              "      <td>8.254376</td>\n",
              "      <td>4.860769</td>\n",
              "      <td>7879.420000</td>\n",
              "      <td>1.000000</td>\n",
              "    </tr>\n",
              "  </tbody>\n",
              "</table>\n",
              "<p>8 rows × 31 columns</p>\n",
              "</div>\n",
              "      <button class=\"colab-df-convert\" onclick=\"convertToInteractive('df-d32105e1-db0b-436a-8919-c8a95f3f9647')\"\n",
              "              title=\"Convert this dataframe to an interactive table.\"\n",
              "              style=\"display:none;\">\n",
              "        \n",
              "  <svg xmlns=\"http://www.w3.org/2000/svg\" height=\"24px\"viewBox=\"0 0 24 24\"\n",
              "       width=\"24px\">\n",
              "    <path d=\"M0 0h24v24H0V0z\" fill=\"none\"/>\n",
              "    <path d=\"M18.56 5.44l.94 2.06.94-2.06 2.06-.94-2.06-.94-.94-2.06-.94 2.06-2.06.94zm-11 1L8.5 8.5l.94-2.06 2.06-.94-2.06-.94L8.5 2.5l-.94 2.06-2.06.94zm10 10l.94 2.06.94-2.06 2.06-.94-2.06-.94-.94-2.06-.94 2.06-2.06.94z\"/><path d=\"M17.41 7.96l-1.37-1.37c-.4-.4-.92-.59-1.43-.59-.52 0-1.04.2-1.43.59L10.3 9.45l-7.72 7.72c-.78.78-.78 2.05 0 2.83L4 21.41c.39.39.9.59 1.41.59.51 0 1.02-.2 1.41-.59l7.78-7.78 2.81-2.81c.8-.78.8-2.07 0-2.86zM5.41 20L4 18.59l7.72-7.72 1.47 1.35L5.41 20z\"/>\n",
              "  </svg>\n",
              "      </button>\n",
              "      \n",
              "  <style>\n",
              "    .colab-df-container {\n",
              "      display:flex;\n",
              "      flex-wrap:wrap;\n",
              "      gap: 12px;\n",
              "    }\n",
              "\n",
              "    .colab-df-convert {\n",
              "      background-color: #E8F0FE;\n",
              "      border: none;\n",
              "      border-radius: 50%;\n",
              "      cursor: pointer;\n",
              "      display: none;\n",
              "      fill: #1967D2;\n",
              "      height: 32px;\n",
              "      padding: 0 0 0 0;\n",
              "      width: 32px;\n",
              "    }\n",
              "\n",
              "    .colab-df-convert:hover {\n",
              "      background-color: #E2EBFA;\n",
              "      box-shadow: 0px 1px 2px rgba(60, 64, 67, 0.3), 0px 1px 3px 1px rgba(60, 64, 67, 0.15);\n",
              "      fill: #174EA6;\n",
              "    }\n",
              "\n",
              "    [theme=dark] .colab-df-convert {\n",
              "      background-color: #3B4455;\n",
              "      fill: #D2E3FC;\n",
              "    }\n",
              "\n",
              "    [theme=dark] .colab-df-convert:hover {\n",
              "      background-color: #434B5C;\n",
              "      box-shadow: 0px 1px 3px 1px rgba(0, 0, 0, 0.15);\n",
              "      filter: drop-shadow(0px 1px 2px rgba(0, 0, 0, 0.3));\n",
              "      fill: #FFFFFF;\n",
              "    }\n",
              "  </style>\n",
              "\n",
              "      <script>\n",
              "        const buttonEl =\n",
              "          document.querySelector('#df-d32105e1-db0b-436a-8919-c8a95f3f9647 button.colab-df-convert');\n",
              "        buttonEl.style.display =\n",
              "          google.colab.kernel.accessAllowed ? 'block' : 'none';\n",
              "\n",
              "        async function convertToInteractive(key) {\n",
              "          const element = document.querySelector('#df-d32105e1-db0b-436a-8919-c8a95f3f9647');\n",
              "          const dataTable =\n",
              "            await google.colab.kernel.invokeFunction('convertToInteractive',\n",
              "                                                     [key], {});\n",
              "          if (!dataTable) return;\n",
              "\n",
              "          const docLinkHtml = 'Like what you see? Visit the ' +\n",
              "            '<a target=\"_blank\" href=https://colab.research.google.com/notebooks/data_table.ipynb>data table notebook</a>'\n",
              "            + ' to learn more about interactive tables.';\n",
              "          element.innerHTML = '';\n",
              "          dataTable['output_type'] = 'display_data';\n",
              "          await google.colab.output.renderOutput(dataTable, element);\n",
              "          const docLink = document.createElement('div');\n",
              "          docLink.innerHTML = docLinkHtml;\n",
              "          element.appendChild(docLink);\n",
              "        }\n",
              "      </script>\n",
              "    </div>\n",
              "  </div>\n",
              "  "
            ]
          },
          "metadata": {},
          "execution_count": 7
        }
      ]
    },
    {
      "cell_type": "code",
      "source": [
        "# Data Visualization\n",
        "df_fraud = df[df['Class'] == 1] # Recovery of fraud data\n",
        "plt.figure(figsize=(15,10))\n",
        "plt.scatter(df_fraud['Time'], df_fraud['Amount']) # Display fraud amounts according to their time\n",
        "plt.title('Scratter plot amount fraud')\n",
        "plt.xlabel('Time')\n",
        "plt.ylabel('Amount')\n",
        "plt.xlim([0,175000])\n",
        "plt.ylim([0,2500])\n",
        "plt.show()"
      ],
      "metadata": {
        "colab": {
          "base_uri": "https://localhost:8080/",
          "height": 621
        },
        "id": "OdMPQzngEQWa",
        "outputId": "30678fd7-749c-4871-a148-5d33388db192"
      },
      "execution_count": null,
      "outputs": [
        {
          "output_type": "display_data",
          "data": {
            "text/plain": [
              "<Figure size 1080x720 with 1 Axes>"
            ],
            "image/png": "[encoded data removed]"
          },
          "metadata": {
            "needs_background": "light"
          }
        }
      ]
    },
    {
      "cell_type": "code",
      "source": [
        "nb_big_fraud = df_fraud[df_fraud['Amount'] > 1000].shape[0] # Recovery of frauds over 1000\n",
        "print('There are only '+ str(nb_big_fraud) + ' frauds where the amount was bigger than 1000 over ' + str(df_fraud.shape[0]) + ' frauds')"
      ],
      "metadata": {
        "colab": {
          "base_uri": "https://localhost:8080/"
        },
        "id": "OSyQB0vVET93",
        "outputId": "bf24de86-280a-4b8c-a05e-b2b79a157ee2"
      },
      "execution_count": null,
      "outputs": [
        {
          "output_type": "stream",
          "name": "stdout",
          "text": [
            "There are only 2 frauds where the amount was bigger than 1000 over 86 frauds\n"
          ]
        }
      ]
    },
    {
      "cell_type": "code",
      "source": [
        "# Unbalence data\n",
        "number_fraud = len(data[data.Class == 1])\n",
        "number_no_fraud = len(data[data.Class == 0])\n",
        "print('There are only '+ str(number_fraud) + ' frauds in the original dataset, even though there are ' + str(number_no_fraud) +' no frauds in the dataset')"
      ],
      "metadata": {
        "colab": {
          "base_uri": "https://localhost:8080/"
        },
        "id": "yJET0TREFId6",
        "outputId": "4df16666-7000-4cf0-942a-63eb9a79a959"
      },
      "execution_count": null,
      "outputs": [
        {
          "output_type": "stream",
          "name": "stdout",
          "text": [
            "There are only 86 frauds in the original dataset, even though there are 21791 no frauds in the dataset\n"
          ]
        }
      ]
    },
    {
      "cell_type": "code",
      "source": [
        "# Achieve the best accuracy possible it would most likely label every transaction as a non-fraud\n",
        "print(\"The accuracy of the classifier then would be : \"+ str((284315-492)/284315)+ \" which is the number of good classification over the number of tuple to classify\")\n"
      ],
      "metadata": {
        "colab": {
          "base_uri": "https://localhost:8080/"
        },
        "id": "KXSGXosvFMzV",
        "outputId": "a4373239-a477-44cb-be0e-06b1c02f7fcf"
      },
      "execution_count": null,
      "outputs": [
        {
          "output_type": "stream",
          "name": "stdout",
          "text": [
            "The accuracy of the classifier then would be : 0.998269524998681 which is the number of good classification over the number of tuple to classify\n"
          ]
        }
      ]
    },
    {
      "cell_type": "code",
      "source": [
        "# Correlation of the features\n",
        "# Calculation of the correlation coefficients in pairs, with the default method:\n",
        "# Pearson, Standard Correlation Coefficient\n",
        "df_corr = df.corr() \n",
        "\n",
        "plt.figure(figsize=(15,10))\n",
        "seaborn.heatmap(df_corr, cmap=\"YlGnBu\") # Displaying the Heatmap\n",
        "seaborn.set(font_scale=2,style='white')\n",
        "\n",
        "plt.title('Heatmap correlation')\n",
        "plt.show()"
      ],
      "metadata": {
        "colab": {
          "base_uri": "https://localhost:8080/",
          "height": 646
        },
        "id": "j0-2m2fpFQZt",
        "outputId": "83200d26-5fc5-481a-c296-7361c634fb17"
      },
      "execution_count": null,
      "outputs": [
        {
          "output_type": "display_data",
          "data": {
            "text/plain": [
              "<Figure size 1080x720 with 2 Axes>"
            ],
            "image/png": "[encoded data removed]"
          },
          "metadata": {
            "needs_background": "light"
          }
        }
      ]
    },
    {
      "cell_type": "code",
      "source": [
        "# Most of the features are not correlated with each other\n",
        "# PCA was previously performed on the data\n",
        "\n",
        "# Retrieving the correlation coefficients per feature in relation to the feature class\n",
        "rank = df_corr['Class'] \n",
        "df_rank = pd.DataFrame(rank) \n",
        "\n",
        "# Ranking the absolute values of the coefficientsin descending order\n",
        "df_rank = np.abs(df_rank).sort_values(by='Class',ascending=False) \n",
        "\n",
        "# Removing Missing Data (not a number)\n",
        "df_rank.dropna(inplace=True)"
      ],
      "metadata": {
        "id": "bj-iRj-QFWRs"
      },
      "execution_count": null,
      "outputs": []
    },
    {
      "cell_type": "code",
      "source": [
        "# We seperate ours data in two groups : a train dataset and a test dataset\n",
        "\n",
        "# Build our train dataset\n",
        "# Cut in two the original dataset\n",
        "df_train_all = df[0:150000] \n",
        "\n",
        "# Seperate the data which are the frauds and the no frauds\n",
        "df_train_1 = df_train_all[df_train_all['Class'] == 1] \n",
        "df_train_0 = df_train_all[df_train_all['Class'] == 0]\n",
        "print('In this dataset, we have ' + str(len(df_train_1)) +\" frauds so we need to take a similar number of non-fraud\")\n",
        "\n",
        "df_sample=df_train_0.sample(300)\n",
        "\n",
        "# Gather the frauds with the no frauds.\n",
        "df_train = df_train_1.append(df_sample)  \n",
        "# Mix dataset\n",
        "df_train = df_train.sample(frac=1) "
      ],
      "metadata": {
        "colab": {
          "base_uri": "https://localhost:8080/"
        },
        "id": "yiXcIdk2FZqS",
        "outputId": "8d3a97f6-9759-490d-cde5-db4447bf7ca7"
      },
      "execution_count": null,
      "outputs": [
        {
          "output_type": "stream",
          "name": "stdout",
          "text": [
            "In this dataset, we have 86 frauds so we need to take a similar number of non-fraud\n"
          ]
        }
      ]
    },
    {
      "cell_type": "code",
      "source": [
        "# Drop the features Time (useless), and the Class (label)\n",
        "X_train = df_train.drop(['Time', 'Class'],axis=1)\n",
        "\n",
        "# Create our label\n",
        "y_train = df_train['Class'] \n",
        "X_train = np.asarray(X_train)\n",
        "y_train = np.asarray(y_train)"
      ],
      "metadata": {
        "id": "KNY-RM3QFdRQ"
      },
      "execution_count": null,
      "outputs": []
    },
    {
      "cell_type": "code",
      "source": [
        "# With all the test dataset to see if the model learn correctly \n",
        "df_test_all = df[150000:]\n",
        "\n",
        "X_test_all = df_test_all.drop(['Time', 'Class'],axis=1)\n",
        "y_test_all = df_test_all['Class']\n",
        "X_test_all = np.asarray(X_test_all)\n",
        "y_test_all = np.asarray(y_test_all)"
      ],
      "metadata": {
        "id": "KQwNAs9rFgb4"
      },
      "execution_count": null,
      "outputs": []
    },
    {
      "cell_type": "code",
      "source": [
        "# Define training and testing set after applying a dimension reduction \n",
        "# Take the first ten ranked features\n",
        "X_train_rank = df_train[df_rank.index[1:11]] \n",
        "X_train_rank = np.asarray(X_train_rank)\n",
        "\n",
        "X_test_all_rank = df_test_all[df_rank.index[1:11]]\n",
        "X_test_all_rank = np.asarray(X_test_all_rank)\n",
        "y_test_all = np.asarray(y_test_all)"
      ],
      "metadata": {
        "id": "bAiGLKzXFiS4"
      },
      "execution_count": null,
      "outputs": []
    },
    {
      "cell_type": "code",
      "source": [
        "# Confusion Matrix\n",
        "# Binary label, Class = 1 (fraud) and Class = 0 (no fraud)\n",
        "class_names=np.array(['0','1']) "
      ],
      "metadata": {
        "id": "Rn7_dvA3FsXS"
      },
      "execution_count": null,
      "outputs": []
    },
    {
      "cell_type": "code",
      "source": [
        "# Function to plot the confusion Matrix\n",
        "def plot_confusion_matrix(cm, classes,\n",
        "                          title='Confusion matrix',\n",
        "                          cmap=plt.cm.Blues):\n",
        "    \n",
        "    plt.imshow(cm, interpolation='nearest', cmap=cmap)\n",
        "    plt.title(title)\n",
        "    plt.colorbar()\n",
        "    tick_marks = np.arange(len(classes))\n",
        "    plt.xticks(tick_marks, classes, rotation=45)\n",
        "    plt.yticks(tick_marks, classes)\n",
        "\n",
        "    fmt = 'd' \n",
        "    thresh = cm.max() / 2.\n",
        "    for i, j in itertools.product(range(cm.shape[0]), range(cm.shape[1])):\n",
        "        plt.text(j, i, format(cm[i, j], fmt),\n",
        "                 horizontalalignment=\"center\",\n",
        "                 color=\"white\" if cm[i, j] > thresh else \"black\")\n",
        "\n",
        "    plt.tight_layout()\n",
        "    plt.ylabel('True label')\n",
        "    plt.xlabel('Predicted label')"
      ],
      "metadata": {
        "id": "Z3LwYE6aFxOv"
      },
      "execution_count": null,
      "outputs": []
    },
    {
      "cell_type": "code",
      "source": [
        "# Model Selection\n",
        "# Set a SVM classifier, the default SVM Classifier (Kernel = Radial Basis Function)\n",
        "classifier = svm.SVC(kernel='linear') \n",
        "\n",
        "# Then we train our model, with our balanced data train.\n",
        "classifier.fit(X_train, y_train)"
      ],
      "metadata": {
        "colab": {
          "base_uri": "https://localhost:8080/"
        },
        "id": "XWv3i2wOFyoB",
        "outputId": "8498edce-5d54-4ea7-854b-7870346c11cb"
      },
      "execution_count": null,
      "outputs": [
        {
          "output_type": "execute_result",
          "data": {
            "text/plain": [
              "SVC(kernel='linear')"
            ]
          },
          "metadata": {},
          "execution_count": 23
        }
      ]
    }
  ]
}